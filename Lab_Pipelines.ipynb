{
  "nbformat": 4,
  "nbformat_minor": 0,
  "metadata": {
    "colab": {
      "provenance": [],
      "include_colab_link": true
    },
    "kernelspec": {
      "name": "python3",
      "display_name": "Python 3"
    },
    "language_info": {
      "name": "python"
    }
  },
  "cells": [
    {
      "cell_type": "markdown",
      "metadata": {
        "id": "view-in-github",
        "colab_type": "text"
      },
      "source": [
        "<a href=\"https://colab.research.google.com/github/IsraDev86/notebook_tarea/blob/main/Lab_Pipelines.ipynb\" target=\"_parent\"><img src=\"https://colab.research.google.com/assets/colab-badge.svg\" alt=\"Open In Colab\"/></a>"
      ]
    },
    {
      "cell_type": "markdown",
      "source": [
        "# Clonamos respositorio"
      ],
      "metadata": {
        "id": "O4F4BUGzGzVo"
      }
    },
    {
      "cell_type": "markdown",
      "source": [
        "Despues del Fork, procedemos a clonar el repositorio"
      ],
      "metadata": {
        "id": "oRg3ly_XG3cO"
      }
    },
    {
      "cell_type": "code",
      "execution_count": null,
      "metadata": {
        "id": "DPFF6DHo15ky"
      },
      "outputs": [],
      "source": [
        "!git clone https://github.com/alberto-iteso/vulnpy.git"
      ]
    },
    {
      "cell_type": "markdown",
      "source": [
        "Configuramos los datos de Git"
      ],
      "metadata": {
        "id": "FYoYB4k6HBKD"
      }
    },
    {
      "cell_type": "code",
      "source": [
        "!git config --global user.email \"alberto.oropeza@iteso.mx\"\n",
        "!git config --global user.name \"Emilio Oropeza\""
      ],
      "metadata": {
        "id": "Kllu0RyzHE3-"
      },
      "execution_count": null,
      "outputs": []
    },
    {
      "cell_type": "markdown",
      "source": [
        "Nos movemos al repositorio"
      ],
      "metadata": {
        "id": "gsfs-VO7HQW6"
      }
    },
    {
      "cell_type": "code",
      "source": [
        "%cd ./vulnpy"
      ],
      "metadata": {
        "id": "cTq3cTjqHR_F"
      },
      "execution_count": null,
      "outputs": []
    },
    {
      "cell_type": "markdown",
      "source": [
        "Creamos el directorio donde se configurara el pipeline en el caso de que no exista"
      ],
      "metadata": {
        "id": "fXIAls8eHelN"
      }
    },
    {
      "cell_type": "code",
      "source": [
        "!ls -las .github/workflows/"
      ],
      "metadata": {
        "id": "xcbc21MpHk54"
      },
      "execution_count": null,
      "outputs": []
    },
    {
      "cell_type": "code",
      "source": [
        "!mkdir .github/workflows/"
      ],
      "metadata": {
        "id": "mutktLorHocb"
      },
      "execution_count": null,
      "outputs": []
    },
    {
      "cell_type": "code",
      "source": [
        "!rm .github/workflows/main.yml\n",
        "!touch .github/workflows/main.yml"
      ],
      "metadata": {
        "id": "fqj2RWczIB8g"
      },
      "execution_count": null,
      "outputs": []
    },
    {
      "cell_type": "markdown",
      "source": [
        "Editar el archivo con el siguiente código\n",
        "\n",
        "\n",
        "```\n",
        "name: vulnpy\n",
        "\n",
        "on:\n",
        "  push:                                       \n",
        "    branches:\n",
        "      - master\n",
        "\n",
        "jobs:\n",
        "  build:\n",
        "    runs-on: ubuntu-latest\n",
        "    steps:\n",
        "      - run: echo \"This is a build step\"\n",
        "\n",
        "  test:\n",
        "    runs-on: ubuntu-latest\n",
        "    steps:\n",
        "      - run: echo \"This is a test step\"\n",
        "```\n",
        "\n"
      ],
      "metadata": {
        "id": "_hCuCbm4IJPt"
      }
    },
    {
      "cell_type": "markdown",
      "source": [
        "Una vez que se haya editado, hacer commit y push"
      ],
      "metadata": {
        "id": "Q-gfaVbnLuEB"
      }
    },
    {
      "cell_type": "code",
      "source": [
        "!git add .\n",
        "!git commit -m \"Agrego workflow inicial 1\""
      ],
      "metadata": {
        "id": "yUI5YLPELyz_"
      },
      "execution_count": null,
      "outputs": []
    },
    {
      "cell_type": "code",
      "source": [
        "!git branch"
      ],
      "metadata": {
        "id": "6t3Kfa3qMH_z"
      },
      "execution_count": null,
      "outputs": []
    },
    {
      "cell_type": "code",
      "source": [
        "!git push origin master"
      ],
      "metadata": {
        "id": "yDjOjcn5L40f"
      },
      "execution_count": null,
      "outputs": []
    },
    {
      "cell_type": "code",
      "source": [
        "!git remote add origin https://[TOKEN]@github.com/[REPO-OWNER]/[REPO-NAME]"
      ],
      "metadata": {
        "id": "PN1cnQj4NdNu"
      },
      "execution_count": null,
      "outputs": []
    },
    {
      "cell_type": "code",
      "source": [
        "!git push origin master"
      ],
      "metadata": {
        "id": "o0EuQoIbN9r9"
      },
      "execution_count": null,
      "outputs": []
    },
    {
      "cell_type": "markdown",
      "source": [
        "A jugar con el pipeline, hacer que los jobs corran por separado, y crear un artefacto"
      ],
      "metadata": {
        "id": "ickaYGmTPbss"
      }
    }
  ]
}